{
 "cells": [
  {
   "cell_type": "code",
   "execution_count": 62,
   "metadata": {},
   "outputs": [
    {
     "data": {
      "text/html": [
       "<div>\n",
       "<style scoped>\n",
       "    .dataframe tbody tr th:only-of-type {\n",
       "        vertical-align: middle;\n",
       "    }\n",
       "\n",
       "    .dataframe tbody tr th {\n",
       "        vertical-align: top;\n",
       "    }\n",
       "\n",
       "    .dataframe thead th {\n",
       "        text-align: right;\n",
       "    }\n",
       "</style>\n",
       "<table border=\"1\" class=\"dataframe\">\n",
       "  <thead>\n",
       "    <tr style=\"text-align: right;\">\n",
       "      <th></th>\n",
       "      <th>Unnamed: 0</th>\n",
       "      <th>order_id</th>\n",
       "      <th>product_id</th>\n",
       "      <th>user_id</th>\n",
       "      <th>eval_set</th>\n",
       "      <th>order_number</th>\n",
       "      <th>order_number.1</th>\n",
       "      <th>order_dow</th>\n",
       "      <th>order_hour_of_day</th>\n",
       "      <th>days_since_prior_order</th>\n",
       "      <th>add_to_cart_order</th>\n",
       "      <th>reordered</th>\n",
       "      <th>aisle_id</th>\n",
       "      <th>aisle</th>\n",
       "      <th>department_id</th>\n",
       "      <th>department</th>\n",
       "      <th>product_name</th>\n",
       "    </tr>\n",
       "  </thead>\n",
       "  <tbody>\n",
       "    <tr>\n",
       "      <th>0</th>\n",
       "      <td>0</td>\n",
       "      <td>2539329</td>\n",
       "      <td>196</td>\n",
       "      <td>1</td>\n",
       "      <td>prior</td>\n",
       "      <td>1</td>\n",
       "      <td>1</td>\n",
       "      <td>2</td>\n",
       "      <td>8</td>\n",
       "      <td>NaN</td>\n",
       "      <td>1</td>\n",
       "      <td>0</td>\n",
       "      <td>77</td>\n",
       "      <td>soft drinks</td>\n",
       "      <td>7</td>\n",
       "      <td>beverages</td>\n",
       "      <td>Soda</td>\n",
       "    </tr>\n",
       "    <tr>\n",
       "      <th>1</th>\n",
       "      <td>1</td>\n",
       "      <td>2539329</td>\n",
       "      <td>14084</td>\n",
       "      <td>1</td>\n",
       "      <td>prior</td>\n",
       "      <td>1</td>\n",
       "      <td>1</td>\n",
       "      <td>2</td>\n",
       "      <td>8</td>\n",
       "      <td>NaN</td>\n",
       "      <td>2</td>\n",
       "      <td>0</td>\n",
       "      <td>91</td>\n",
       "      <td>soy lactosefree</td>\n",
       "      <td>16</td>\n",
       "      <td>dairy eggs</td>\n",
       "      <td>Organic Unsweetened Vanilla Almond Milk</td>\n",
       "    </tr>\n",
       "    <tr>\n",
       "      <th>2</th>\n",
       "      <td>2</td>\n",
       "      <td>2539329</td>\n",
       "      <td>12427</td>\n",
       "      <td>1</td>\n",
       "      <td>prior</td>\n",
       "      <td>1</td>\n",
       "      <td>1</td>\n",
       "      <td>2</td>\n",
       "      <td>8</td>\n",
       "      <td>NaN</td>\n",
       "      <td>3</td>\n",
       "      <td>0</td>\n",
       "      <td>23</td>\n",
       "      <td>popcorn jerky</td>\n",
       "      <td>19</td>\n",
       "      <td>snacks</td>\n",
       "      <td>Original Beef Jerky</td>\n",
       "    </tr>\n",
       "    <tr>\n",
       "      <th>3</th>\n",
       "      <td>3</td>\n",
       "      <td>2539329</td>\n",
       "      <td>26088</td>\n",
       "      <td>1</td>\n",
       "      <td>prior</td>\n",
       "      <td>1</td>\n",
       "      <td>1</td>\n",
       "      <td>2</td>\n",
       "      <td>8</td>\n",
       "      <td>NaN</td>\n",
       "      <td>4</td>\n",
       "      <td>0</td>\n",
       "      <td>23</td>\n",
       "      <td>popcorn jerky</td>\n",
       "      <td>19</td>\n",
       "      <td>snacks</td>\n",
       "      <td>Aged White Cheddar Popcorn</td>\n",
       "    </tr>\n",
       "    <tr>\n",
       "      <th>4</th>\n",
       "      <td>4</td>\n",
       "      <td>2539329</td>\n",
       "      <td>26405</td>\n",
       "      <td>1</td>\n",
       "      <td>prior</td>\n",
       "      <td>1</td>\n",
       "      <td>1</td>\n",
       "      <td>2</td>\n",
       "      <td>8</td>\n",
       "      <td>NaN</td>\n",
       "      <td>5</td>\n",
       "      <td>0</td>\n",
       "      <td>54</td>\n",
       "      <td>paper goods</td>\n",
       "      <td>17</td>\n",
       "      <td>household</td>\n",
       "      <td>XL Pick-A-Size Paper Towel Rolls</td>\n",
       "    </tr>\n",
       "  </tbody>\n",
       "</table>\n",
       "</div>"
      ],
      "text/plain": [
       "   Unnamed: 0  order_id  product_id  user_id eval_set  order_number  \\\n",
       "0           0   2539329         196        1    prior             1   \n",
       "1           1   2539329       14084        1    prior             1   \n",
       "2           2   2539329       12427        1    prior             1   \n",
       "3           3   2539329       26088        1    prior             1   \n",
       "4           4   2539329       26405        1    prior             1   \n",
       "\n",
       "   order_number.1  order_dow  order_hour_of_day  days_since_prior_order  \\\n",
       "0               1          2                  8                     NaN   \n",
       "1               1          2                  8                     NaN   \n",
       "2               1          2                  8                     NaN   \n",
       "3               1          2                  8                     NaN   \n",
       "4               1          2                  8                     NaN   \n",
       "\n",
       "   add_to_cart_order  reordered  aisle_id            aisle  department_id  \\\n",
       "0                  1          0        77      soft drinks              7   \n",
       "1                  2          0        91  soy lactosefree             16   \n",
       "2                  3          0        23    popcorn jerky             19   \n",
       "3                  4          0        23    popcorn jerky             19   \n",
       "4                  5          0        54      paper goods             17   \n",
       "\n",
       "   department                             product_name  \n",
       "0   beverages                                     Soda  \n",
       "1  dairy eggs  Organic Unsweetened Vanilla Almond Milk  \n",
       "2      snacks                      Original Beef Jerky  \n",
       "3      snacks               Aged White Cheddar Popcorn  \n",
       "4   household         XL Pick-A-Size Paper Towel Rolls  "
      ]
     },
     "execution_count": 62,
     "metadata": {},
     "output_type": "execute_result"
    }
   ],
   "source": [
    "import pandas as pd\n",
    "sample = pd.read_csv('Data/TotalOrders_.csv')\n",
    "sample.head()"
   ]
  },
  {
   "cell_type": "code",
   "execution_count": 2,
   "metadata": {},
   "outputs": [
    {
     "data": {
      "text/html": [
       "<div>\n",
       "<style scoped>\n",
       "    .dataframe tbody tr th:only-of-type {\n",
       "        vertical-align: middle;\n",
       "    }\n",
       "\n",
       "    .dataframe tbody tr th {\n",
       "        vertical-align: top;\n",
       "    }\n",
       "\n",
       "    .dataframe thead th {\n",
       "        text-align: right;\n",
       "    }\n",
       "</style>\n",
       "<table border=\"1\" class=\"dataframe\">\n",
       "  <thead>\n",
       "    <tr style=\"text-align: right;\">\n",
       "      <th></th>\n",
       "      <th>order_id</th>\n",
       "      <th>product_id</th>\n",
       "      <th>user_id</th>\n",
       "      <th>order_number</th>\n",
       "      <th>reordered</th>\n",
       "      <th>aisle_id</th>\n",
       "      <th>aisle</th>\n",
       "      <th>department_id</th>\n",
       "      <th>department</th>\n",
       "      <th>product_name</th>\n",
       "    </tr>\n",
       "  </thead>\n",
       "  <tbody>\n",
       "    <tr>\n",
       "      <th>0</th>\n",
       "      <td>1348572</td>\n",
       "      <td>48299</td>\n",
       "      <td>159497</td>\n",
       "      <td>15</td>\n",
       "      <td>1</td>\n",
       "      <td>123</td>\n",
       "      <td>packaged vegetables fruits</td>\n",
       "      <td>4</td>\n",
       "      <td>produce</td>\n",
       "      <td>Baby Cut Carrots</td>\n",
       "    </tr>\n",
       "    <tr>\n",
       "      <th>1</th>\n",
       "      <td>2792883</td>\n",
       "      <td>3699</td>\n",
       "      <td>195288</td>\n",
       "      <td>14</td>\n",
       "      <td>0</td>\n",
       "      <td>83</td>\n",
       "      <td>fresh vegetables</td>\n",
       "      <td>4</td>\n",
       "      <td>produce</td>\n",
       "      <td>Chard, Green, New England Grown</td>\n",
       "    </tr>\n",
       "    <tr>\n",
       "      <th>2</th>\n",
       "      <td>1741981</td>\n",
       "      <td>28911</td>\n",
       "      <td>186631</td>\n",
       "      <td>11</td>\n",
       "      <td>1</td>\n",
       "      <td>130</td>\n",
       "      <td>hot cereal pancake mixes</td>\n",
       "      <td>14</td>\n",
       "      <td>breakfast</td>\n",
       "      <td>Buttermilk Complete Pancake &amp; Waffle Mix</td>\n",
       "    </tr>\n",
       "    <tr>\n",
       "      <th>3</th>\n",
       "      <td>680761</td>\n",
       "      <td>10970</td>\n",
       "      <td>155029</td>\n",
       "      <td>3</td>\n",
       "      <td>0</td>\n",
       "      <td>105</td>\n",
       "      <td>doughs gelatins bake mixes</td>\n",
       "      <td>13</td>\n",
       "      <td>pantry</td>\n",
       "      <td>Chocolate Chip Cookie Mix</td>\n",
       "    </tr>\n",
       "    <tr>\n",
       "      <th>4</th>\n",
       "      <td>215407</td>\n",
       "      <td>47626</td>\n",
       "      <td>19822</td>\n",
       "      <td>23</td>\n",
       "      <td>1</td>\n",
       "      <td>24</td>\n",
       "      <td>fresh fruits</td>\n",
       "      <td>4</td>\n",
       "      <td>produce</td>\n",
       "      <td>Large Lemon</td>\n",
       "    </tr>\n",
       "  </tbody>\n",
       "</table>\n",
       "</div>"
      ],
      "text/plain": [
       "   order_id  product_id  user_id  order_number  reordered  aisle_id  \\\n",
       "0   1348572       48299   159497            15          1       123   \n",
       "1   2792883        3699   195288            14          0        83   \n",
       "2   1741981       28911   186631            11          1       130   \n",
       "3    680761       10970   155029             3          0       105   \n",
       "4    215407       47626    19822            23          1        24   \n",
       "\n",
       "                        aisle  department_id department  \\\n",
       "0  packaged vegetables fruits              4    produce   \n",
       "1            fresh vegetables              4    produce   \n",
       "2    hot cereal pancake mixes             14  breakfast   \n",
       "3  doughs gelatins bake mixes             13     pantry   \n",
       "4                fresh fruits              4    produce   \n",
       "\n",
       "                               product_name  \n",
       "0                          Baby Cut Carrots  \n",
       "1           Chard, Green, New England Grown  \n",
       "2  Buttermilk Complete Pancake & Waffle Mix  \n",
       "3                 Chocolate Chip Cookie Mix  \n",
       "4                               Large Lemon  "
      ]
     },
     "execution_count": 2,
     "metadata": {},
     "output_type": "execute_result"
    }
   ],
   "source": [
    "del sample['Unnamed: 0']\n",
    "del sample['Unnamed: 0.1']\n",
    "del sample['Unnamed: 0_x']\n",
    "del sample['eval_set']\n",
    "del sample['order_number.1']\n",
    "del sample['order_dow']\n",
    "del sample['order_hour_of_day']\n",
    "del sample['days_since_prior_order']\n",
    "del sample['add_to_cart_order']\n",
    "del sample['Unnamed: 0_y']\n",
    " \n",
    "sample.head()"
   ]
  },
  {
   "cell_type": "code",
   "execution_count": 3,
   "metadata": {},
   "outputs": [
    {
     "data": {
      "text/html": [
       "<div>\n",
       "<style scoped>\n",
       "    .dataframe tbody tr th:only-of-type {\n",
       "        vertical-align: middle;\n",
       "    }\n",
       "\n",
       "    .dataframe tbody tr th {\n",
       "        vertical-align: top;\n",
       "    }\n",
       "\n",
       "    .dataframe thead th {\n",
       "        text-align: right;\n",
       "    }\n",
       "</style>\n",
       "<table border=\"1\" class=\"dataframe\">\n",
       "  <thead>\n",
       "    <tr style=\"text-align: right;\">\n",
       "      <th></th>\n",
       "      <th>order_id</th>\n",
       "      <th>product_id</th>\n",
       "      <th>user_id</th>\n",
       "      <th>order_number</th>\n",
       "      <th>reordered</th>\n",
       "      <th>aisle_id</th>\n",
       "      <th>aisle</th>\n",
       "      <th>department_id</th>\n",
       "      <th>department</th>\n",
       "      <th>product_name</th>\n",
       "    </tr>\n",
       "  </thead>\n",
       "  <tbody>\n",
       "    <tr>\n",
       "      <th>178542</th>\n",
       "      <td>2290286</td>\n",
       "      <td>1</td>\n",
       "      <td>181697</td>\n",
       "      <td>47</td>\n",
       "      <td>1</td>\n",
       "      <td>61</td>\n",
       "      <td>cookies cakes</td>\n",
       "      <td>19</td>\n",
       "      <td>snacks</td>\n",
       "      <td>Chocolate Sandwich Cookies</td>\n",
       "    </tr>\n",
       "    <tr>\n",
       "      <th>622606</th>\n",
       "      <td>3345716</td>\n",
       "      <td>1</td>\n",
       "      <td>141541</td>\n",
       "      <td>2</td>\n",
       "      <td>0</td>\n",
       "      <td>61</td>\n",
       "      <td>cookies cakes</td>\n",
       "      <td>19</td>\n",
       "      <td>snacks</td>\n",
       "      <td>Chocolate Sandwich Cookies</td>\n",
       "    </tr>\n",
       "    <tr>\n",
       "      <th>552674</th>\n",
       "      <td>3201896</td>\n",
       "      <td>1</td>\n",
       "      <td>144159</td>\n",
       "      <td>1</td>\n",
       "      <td>0</td>\n",
       "      <td>61</td>\n",
       "      <td>cookies cakes</td>\n",
       "      <td>19</td>\n",
       "      <td>snacks</td>\n",
       "      <td>Chocolate Sandwich Cookies</td>\n",
       "    </tr>\n",
       "    <tr>\n",
       "      <th>536631</th>\n",
       "      <td>1513899</td>\n",
       "      <td>1</td>\n",
       "      <td>93133</td>\n",
       "      <td>5</td>\n",
       "      <td>0</td>\n",
       "      <td>61</td>\n",
       "      <td>cookies cakes</td>\n",
       "      <td>19</td>\n",
       "      <td>snacks</td>\n",
       "      <td>Chocolate Sandwich Cookies</td>\n",
       "    </tr>\n",
       "    <tr>\n",
       "      <th>17004</th>\n",
       "      <td>2009107</td>\n",
       "      <td>1</td>\n",
       "      <td>63819</td>\n",
       "      <td>18</td>\n",
       "      <td>1</td>\n",
       "      <td>61</td>\n",
       "      <td>cookies cakes</td>\n",
       "      <td>19</td>\n",
       "      <td>snacks</td>\n",
       "      <td>Chocolate Sandwich Cookies</td>\n",
       "    </tr>\n",
       "  </tbody>\n",
       "</table>\n",
       "</div>"
      ],
      "text/plain": [
       "        order_id  product_id  user_id  order_number  reordered  aisle_id  \\\n",
       "178542   2290286           1   181697            47          1        61   \n",
       "622606   3345716           1   141541             2          0        61   \n",
       "552674   3201896           1   144159             1          0        61   \n",
       "536631   1513899           1    93133             5          0        61   \n",
       "17004    2009107           1    63819            18          1        61   \n",
       "\n",
       "                aisle  department_id department                product_name  \n",
       "178542  cookies cakes             19     snacks  Chocolate Sandwich Cookies  \n",
       "622606  cookies cakes             19     snacks  Chocolate Sandwich Cookies  \n",
       "552674  cookies cakes             19     snacks  Chocolate Sandwich Cookies  \n",
       "536631  cookies cakes             19     snacks  Chocolate Sandwich Cookies  \n",
       "17004   cookies cakes             19     snacks  Chocolate Sandwich Cookies  "
      ]
     },
     "execution_count": 3,
     "metadata": {},
     "output_type": "execute_result"
    }
   ],
   "source": [
    "sample.sort_values(by='product_id', ascending=True).head(5)"
   ]
  },
  {
   "cell_type": "code",
   "execution_count": 4,
   "metadata": {},
   "outputs": [
    {
     "data": {
      "text/plain": [
       "pandas.core.series.Series"
      ]
     },
     "execution_count": 4,
     "metadata": {},
     "output_type": "execute_result"
    }
   ],
   "source": [
    "ProductId = sample['product_id']\n",
    "type(ProductId)"
   ]
  },
  {
   "cell_type": "code",
   "execution_count": 5,
   "metadata": {},
   "outputs": [
    {
     "data": {
      "text/plain": [
       "24852    14522\n",
       "13176    11624\n",
       "21137     8243\n",
       "21903     7576\n",
       "47209     6655\n",
       "47766     5368\n",
       "47626     4749\n",
       "26209     4440\n",
       "16797     4409\n",
       "27845     4335\n",
       "27966     4280\n",
       "22935     3385\n",
       "24964     3328\n",
       "45007     3287\n",
       "39275     3168\n",
       "Name: product_id, dtype: int64"
      ]
     },
     "execution_count": 5,
     "metadata": {},
     "output_type": "execute_result"
    }
   ],
   "source": [
    "ProductId.value_counts().head(15)"
   ]
  },
  {
   "cell_type": "code",
   "execution_count": 6,
   "metadata": {},
   "outputs": [],
   "source": [
    "ProductIdCount = ProductId.value_counts().head(15)"
   ]
  },
  {
   "cell_type": "code",
   "execution_count": 7,
   "metadata": {},
   "outputs": [
    {
     "data": {
      "text/plain": [
       "24852    14522\n",
       "13176    11624\n",
       "21137     8243\n",
       "21903     7576\n",
       "47209     6655\n",
       "47766     5368\n",
       "47626     4749\n",
       "26209     4440\n",
       "16797     4409\n",
       "27845     4335\n",
       "27966     4280\n",
       "22935     3385\n",
       "24964     3328\n",
       "45007     3287\n",
       "39275     3168\n",
       "Name: product_id, dtype: int64"
      ]
     },
     "execution_count": 7,
     "metadata": {},
     "output_type": "execute_result"
    }
   ],
   "source": [
    "ProductIdCount"
   ]
  },
  {
   "cell_type": "code",
   "execution_count": 8,
   "metadata": {},
   "outputs": [],
   "source": [
    "import matplotlib.pyplot as plt\n",
    "%matplotlib inline"
   ]
  },
  {
   "cell_type": "code",
   "execution_count": 11,
   "metadata": {},
   "outputs": [
    {
     "data": {
      "text/plain": [
       "Text(0, 0.5, 'SalesRate')"
      ]
     },
     "execution_count": 11,
     "metadata": {},
     "output_type": "execute_result"
    },
    {
     "data": {
      "image/png": "[encoded data removed]",
      "text/plain": [
       "<Figure size 720x432 with 1 Axes>"
      ]
     },
     "metadata": {
      "needs_background": "light"
     },
     "output_type": "display_data"
    }
   ],
   "source": [
    "ProductIdCount.plot(kind='bar',figsize=(10,6), title='Best Product')\n",
    "plt.xlabel('ProductID')\n",
    "plt.ylabel('SalesRate')"
   ]
  },
  {
   "cell_type": "code",
   "execution_count": 12,
   "metadata": {},
   "outputs": [],
   "source": [
    "ProductDep = sample['department']"
   ]
  },
  {
   "cell_type": "code",
   "execution_count": 13,
   "metadata": {},
   "outputs": [],
   "source": [
    "ProductDepCount = ProductDep.value_counts()"
   ]
  },
  {
   "cell_type": "code",
   "execution_count": 14,
   "metadata": {},
   "outputs": [
    {
     "data": {
      "text/plain": [
       "produce            292239\n",
       "dairy eggs         166843\n",
       "snacks              89042\n",
       "beverages           82849\n",
       "frozen              69004\n",
       "pantry              57983\n",
       "bakery              36264\n",
       "canned goods        33113\n",
       "deli                32404\n",
       "dry goods pasta     26725\n",
       "household           22487\n",
       "meat seafood        22079\n",
       "breakfast           21738\n",
       "personal care       13630\n",
       "babies              13142\n",
       "international        8321\n",
       "alcohol              4842\n",
       "pets                 2959\n",
       "missing              2147\n",
       "other                1109\n",
       "bulk                 1080\n",
       "Name: department, dtype: int64"
      ]
     },
     "execution_count": 14,
     "metadata": {},
     "output_type": "execute_result"
    }
   ],
   "source": [
    "ProductDepCount"
   ]
  },
  {
   "cell_type": "code",
   "execution_count": 15,
   "metadata": {},
   "outputs": [
    {
     "data": {
      "text/plain": [
       "Text(0, 0.5, 'Department')"
      ]
     },
     "execution_count": 15,
     "metadata": {},
     "output_type": "execute_result"
    },
    {
     "data": {
      "image/png": "[encoded data removed]",
      "text/plain": [
       "<Figure size 720x432 with 1 Axes>"
      ]
     },
     "metadata": {
      "needs_background": "light"
     },
     "output_type": "display_data"
    }
   ],
   "source": [
    "ProductDepCount.sort_values().plot(kind='barh',figsize=(10,6), title='Best Department', grid=True)\n",
    "plt.xlabel('SalesRate')\n",
    "plt.ylabel('Department')"
   ]
  },
  {
   "cell_type": "code",
   "execution_count": 16,
   "metadata": {},
   "outputs": [
    {
     "data": {
      "text/html": [
       "<div>\n",
       "<style scoped>\n",
       "    .dataframe tbody tr th:only-of-type {\n",
       "        vertical-align: middle;\n",
       "    }\n",
       "\n",
       "    .dataframe tbody tr th {\n",
       "        vertical-align: top;\n",
       "    }\n",
       "\n",
       "    .dataframe thead th {\n",
       "        text-align: right;\n",
       "    }\n",
       "</style>\n",
       "<table border=\"1\" class=\"dataframe\">\n",
       "  <thead>\n",
       "    <tr style=\"text-align: right;\">\n",
       "      <th></th>\n",
       "      <th>product_id</th>\n",
       "      <th>reordered</th>\n",
       "    </tr>\n",
       "  </thead>\n",
       "  <tbody>\n",
       "    <tr>\n",
       "      <th>0</th>\n",
       "      <td>48299</td>\n",
       "      <td>1</td>\n",
       "    </tr>\n",
       "    <tr>\n",
       "      <th>1</th>\n",
       "      <td>3699</td>\n",
       "      <td>0</td>\n",
       "    </tr>\n",
       "    <tr>\n",
       "      <th>2</th>\n",
       "      <td>28911</td>\n",
       "      <td>1</td>\n",
       "    </tr>\n",
       "    <tr>\n",
       "      <th>3</th>\n",
       "      <td>10970</td>\n",
       "      <td>0</td>\n",
       "    </tr>\n",
       "    <tr>\n",
       "      <th>4</th>\n",
       "      <td>47626</td>\n",
       "      <td>1</td>\n",
       "    </tr>\n",
       "  </tbody>\n",
       "</table>\n",
       "</div>"
      ],
      "text/plain": [
       "   product_id  reordered\n",
       "0       48299          1\n",
       "1        3699          0\n",
       "2       28911          1\n",
       "3       10970          0\n",
       "4       47626          1"
      ]
     },
     "execution_count": 16,
     "metadata": {},
     "output_type": "execute_result"
    }
   ],
   "source": [
    "sample.loc[:,['product_id','reordered']].head()"
   ]
  },
  {
   "cell_type": "code",
   "execution_count": 17,
   "metadata": {
    "scrolled": false
   },
   "outputs": [
    {
     "data": {
      "text/plain": [
       "0    48299\n",
       "2    28911\n",
       "4    47626\n",
       "7    19057\n",
       "8    24852\n",
       "Name: product_id, dtype: int64"
      ]
     },
     "execution_count": 17,
     "metadata": {},
     "output_type": "execute_result"
    }
   ],
   "source": [
    "ReProduct = sample[sample['reordered'].isin(['1'])].loc[:,['product_id']]['product_id']\n",
    "ReProduct.head()"
   ]
  },
  {
   "cell_type": "code",
   "execution_count": 18,
   "metadata": {},
   "outputs": [
    {
     "data": {
      "text/plain": [
       "24852    12297\n",
       "13176     9676\n",
       "21137     6357\n",
       "21903     5849\n",
       "47209     5358\n",
       "47766     4078\n",
       "27845     3594\n",
       "47626     3326\n",
       "27966     3286\n",
       "16797     3112\n",
       "26209     3028\n",
       "22935     2341\n",
       "24964     2275\n",
       "45007     2217\n",
       "28204     2043\n",
       "Name: product_id, dtype: int64"
      ]
     },
     "execution_count": 18,
     "metadata": {},
     "output_type": "execute_result"
    }
   ],
   "source": [
    "ReProductCount = ReProduct.value_counts().head(15)\n",
    "ReProductCount"
   ]
  },
  {
   "cell_type": "code",
   "execution_count": 19,
   "metadata": {},
   "outputs": [
    {
     "data": {
      "text/plain": [
       "Text(0, 0.5, 'ReorderRate')"
      ]
     },
     "execution_count": 19,
     "metadata": {},
     "output_type": "execute_result"
    },
    {
     "data": {
      "image/png": "[encoded data removed]",
      "text/plain": [
       "<Figure size 720x432 with 1 Axes>"
      ]
     },
     "metadata": {
      "needs_background": "light"
     },
     "output_type": "display_data"
    }
   ],
   "source": [
    "ReProductCount.plot(kind='bar',figsize=(10,6), title='Best Reorder Product')\n",
    "plt.xlabel('ProductID')\n",
    "plt.ylabel('ReorderRate')"
   ]
  },
  {
   "cell_type": "code",
   "execution_count": 85,
   "metadata": {},
   "outputs": [
    {
     "data": {
      "text/plain": [
       "<matplotlib.axes._subplots.AxesSubplot at 0x25eeaa48e80>"
      ]
     },
     "execution_count": 85,
     "metadata": {},
     "output_type": "execute_result"
    },
    {
     "data": {
      "image/png": "[encoded data removed]",
      "text/plain": [
       "<Figure size 720x720 with 1 Axes>"
      ]
     },
     "metadata": {},
     "output_type": "display_data"
    }
   ],
   "source": [
    "ProductIdCount.plot.pie(figsize=(10,10))\n",
    "ReProductCount.plot.pie(figsize=(10,10))"
   ]
  },
  {
   "cell_type": "code",
   "execution_count": 81,
   "metadata": {},
   "outputs": [
    {
     "data": {
      "text/html": [
       "<div>\n",
       "<style scoped>\n",
       "    .dataframe tbody tr th:only-of-type {\n",
       "        vertical-align: middle;\n",
       "    }\n",
       "\n",
       "    .dataframe tbody tr th {\n",
       "        vertical-align: top;\n",
       "    }\n",
       "\n",
       "    .dataframe thead th {\n",
       "        text-align: right;\n",
       "    }\n",
       "</style>\n",
       "<table border=\"1\" class=\"dataframe\">\n",
       "  <thead>\n",
       "    <tr style=\"text-align: right;\">\n",
       "      <th></th>\n",
       "      <th>product_id</th>\n",
       "      <th>product_count</th>\n",
       "      <th>reproduct_count</th>\n",
       "      <th>product_name</th>\n",
       "    </tr>\n",
       "  </thead>\n",
       "  <tbody>\n",
       "    <tr>\n",
       "      <th>0</th>\n",
       "      <td>24852</td>\n",
       "      <td>14522</td>\n",
       "      <td>12297</td>\n",
       "      <td>Banana</td>\n",
       "    </tr>\n",
       "    <tr>\n",
       "      <th>1</th>\n",
       "      <td>13176</td>\n",
       "      <td>11624</td>\n",
       "      <td>9676</td>\n",
       "      <td>Bag of Organic Bananas</td>\n",
       "    </tr>\n",
       "    <tr>\n",
       "      <th>2</th>\n",
       "      <td>21137</td>\n",
       "      <td>8243</td>\n",
       "      <td>6357</td>\n",
       "      <td>Organic Strawberries</td>\n",
       "    </tr>\n",
       "    <tr>\n",
       "      <th>3</th>\n",
       "      <td>21903</td>\n",
       "      <td>7576</td>\n",
       "      <td>5849</td>\n",
       "      <td>Organic Baby Spinach</td>\n",
       "    </tr>\n",
       "    <tr>\n",
       "      <th>4</th>\n",
       "      <td>47209</td>\n",
       "      <td>6655</td>\n",
       "      <td>5358</td>\n",
       "      <td>Organic Hass Avocado</td>\n",
       "    </tr>\n",
       "    <tr>\n",
       "      <th>5</th>\n",
       "      <td>47766</td>\n",
       "      <td>5368</td>\n",
       "      <td>4078</td>\n",
       "      <td>Organic Avocado</td>\n",
       "    </tr>\n",
       "    <tr>\n",
       "      <th>6</th>\n",
       "      <td>47626</td>\n",
       "      <td>4749</td>\n",
       "      <td>3326</td>\n",
       "      <td>Large Lemon</td>\n",
       "    </tr>\n",
       "    <tr>\n",
       "      <th>7</th>\n",
       "      <td>26209</td>\n",
       "      <td>4440</td>\n",
       "      <td>3028</td>\n",
       "      <td>Limes</td>\n",
       "    </tr>\n",
       "    <tr>\n",
       "      <th>8</th>\n",
       "      <td>16797</td>\n",
       "      <td>4409</td>\n",
       "      <td>3112</td>\n",
       "      <td>Strawberries</td>\n",
       "    </tr>\n",
       "    <tr>\n",
       "      <th>9</th>\n",
       "      <td>27845</td>\n",
       "      <td>4335</td>\n",
       "      <td>3594</td>\n",
       "      <td>Organic Whole Milk</td>\n",
       "    </tr>\n",
       "    <tr>\n",
       "      <th>10</th>\n",
       "      <td>27966</td>\n",
       "      <td>4280</td>\n",
       "      <td>3286</td>\n",
       "      <td>Organic Raspberries</td>\n",
       "    </tr>\n",
       "    <tr>\n",
       "      <th>11</th>\n",
       "      <td>22935</td>\n",
       "      <td>3385</td>\n",
       "      <td>2341</td>\n",
       "      <td>Organic Yellow Onion</td>\n",
       "    </tr>\n",
       "    <tr>\n",
       "      <th>12</th>\n",
       "      <td>24964</td>\n",
       "      <td>3328</td>\n",
       "      <td>2275</td>\n",
       "      <td>Organic Garlic</td>\n",
       "    </tr>\n",
       "    <tr>\n",
       "      <th>13</th>\n",
       "      <td>45007</td>\n",
       "      <td>3287</td>\n",
       "      <td>2217</td>\n",
       "      <td>Organic Zucchini</td>\n",
       "    </tr>\n",
       "  </tbody>\n",
       "</table>\n",
       "</div>"
      ],
      "text/plain": [
       "    product_id  product_count  reproduct_count            product_name\n",
       "0        24852          14522            12297                  Banana\n",
       "1        13176          11624             9676  Bag of Organic Bananas\n",
       "2        21137           8243             6357    Organic Strawberries\n",
       "3        21903           7576             5849    Organic Baby Spinach\n",
       "4        47209           6655             5358    Organic Hass Avocado\n",
       "5        47766           5368             4078         Organic Avocado\n",
       "6        47626           4749             3326             Large Lemon\n",
       "7        26209           4440             3028                   Limes\n",
       "8        16797           4409             3112            Strawberries\n",
       "9        27845           4335             3594      Organic Whole Milk\n",
       "10       27966           4280             3286     Organic Raspberries\n",
       "11       22935           3385             2341    Organic Yellow Onion\n",
       "12       24964           3328             2275          Organic Garlic\n",
       "13       45007           3287             2217        Organic Zucchini"
      ]
     },
     "execution_count": 81,
     "metadata": {},
     "output_type": "execute_result"
    }
   ],
   "source": [
    "Product = pd.read_csv('Data/products.csv')\n",
    "del Product['aisle_id']\n",
    "del Product['department_id']\n",
    "d = pd.merge(c,Product)\n",
    "d"
   ]
  },
  {
   "cell_type": "code",
   "execution_count": 84,
   "metadata": {},
   "outputs": [
    {
     "data": {
      "text/plain": [
       "<matplotlib.axes._subplots.AxesSubplot at 0x25eea9edb38>"
      ]
     },
     "execution_count": 84,
     "metadata": {},
     "output_type": "execute_result"
    },
    {
     "data": {
      "image/png": "[encoded data removed]",
      "text/plain": [
       "<Figure size 576x576 with 1 Axes>"
      ]
     },
     "metadata": {
      "needs_background": "light"
     },
     "output_type": "display_data"
    }
   ],
   "source": [
    "#pd.DataFrame({'email':sf.index, 'list':sf.values})\n",
    "#ProductIdCount\n",
    "a = pd.DataFrame({'product_id':ProductIdCount.index, 'product_count':ProductIdCount.values})\n",
    "b = pd.DataFrame({'product_id':ReProductCount.index, 'reproduct_count':ReProductCount.values})\n",
    "\n",
    "c = pd.merge(a,b)\n",
    "d = pd.merge(c,Product)\n",
    "d.sort_values(by='product_count',ascending=True).plot(kind='barh',\n",
    "                                                       x='product_name', y=['reproduct_count','product_count'], \n",
    "                                                       figsize=(8,8),\n",
    "                                                       title='Total Product Sales Rate',grid=True)\n"
   ]
  },
  {
   "cell_type": "code",
   "execution_count": 21,
   "metadata": {},
   "outputs": [
    {
     "ename": "IndentationError",
     "evalue": "expected an indented block (<ipython-input-21-f9cb4d3302f0>, line 13)",
     "output_type": "error",
     "traceback": [
      "\u001b[1;36m  File \u001b[1;32m\"<ipython-input-21-f9cb4d3302f0>\"\u001b[1;36m, line \u001b[1;32m13\u001b[0m\n\u001b[1;33m    def BestDepartment():\u001b[0m\n\u001b[1;37m      ^\u001b[0m\n\u001b[1;31mIndentationError\u001b[0m\u001b[1;31m:\u001b[0m expected an indented block\n"
     ]
    }
   ],
   "source": [
    "# 전체 코드\n",
    "import pandas as pd\n",
    "import matplotlib as plt\n",
    "\n",
    "sample = pd.read_csv('PreprocessData/TotalOrders_sampling.csv')\n",
    "sample.head()\n",
    "\n",
    "# 데이터 프레임 처리 클래스    \n",
    "class DataFrametoSeries:\n",
    "    \n",
    "    def BestProduct():\n",
    "        \n",
    "    def BestDepartment():\n",
    "        \n",
    "    def BestReorderProduct():\n",
    "\n",
    "        \n",
    "\n",
    "# 그래프를 그리는 함수\n",
    "def GrafhPlotting(series):\n",
    "    # Series binding\n",
    "    grafh = series\n",
    "    # plot optoin \n",
    "    grafh.plot()\n",
    "    plt.show()\n"
   ]
  }
 ],
 "metadata": {
  "kernelspec": {
   "display_name": "Python 3",
   "language": "python",
   "name": "python3"
  },
  "language_info": {
   "codemirror_mode": {
    "name": "ipython",
    "version": 3
   },
   "file_extension": ".py",
   "mimetype": "text/x-python",
   "name": "python",
   "nbconvert_exporter": "python",
   "pygments_lexer": "ipython3",
   "version": "3.7.1"
  }
 },
 "nbformat": 4,
 "nbformat_minor": 2
}
